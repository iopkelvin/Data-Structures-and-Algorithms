{
 "cells": [
  {
   "cell_type": "markdown",
   "metadata": {
    "graffitiCellId": "id_ckuzd96"
   },
   "source": [
    "## Reverse Polish Notation\n",
    "\n",
    "**Reverse Polish notation**, also referred to as **Polish postfix notation** is a way of laying out operators and operands. \n",
    "\n",
    "When making mathematical expressions, we typically put arithmetic operators (like `+`, `-`, `*`, and `/`) *between* operands. For example: `5 + 7 - 3 * 8`\n",
    "\n",
    "However, in Reverse Polish Notation, the operators come *after* the operands. For example: `3 1 + 4 *`\n",
    "\n",
    "The above expression would be evaluated as `(3 + 1) * 4 = 16`\n",
    "\n",
    "The goal of this exercise is to create a function that does the following:\n",
    "* Given a *postfix* expression as input, evaluate and return the correct final answer. \n",
    "\n",
    "**Note**: In Python 3, the division operator `/` is used to perform float division. So for this problem, you should use `int()` after every division to convert the answer to an integer."
   ]
  },
  {
   "cell_type": "code",
   "execution_count": 1,
   "metadata": {
    "graffitiCellId": "id_ukl3cva"
   },
   "outputs": [],
   "source": [
    "class LinkedListNode:\n",
    "\n",
    "    def __init__(self, data):\n",
    "        self.data = data\n",
    "        self.next = None\n",
    "\n",
    "class Stack:\n",
    "\n",
    "    def __init__(self):\n",
    "        self.num_elements = 0\n",
    "        self.head = None\n",
    "\n",
    "    def push(self, data):\n",
    "        new_node = LinkedListNode(data)\n",
    "        if self.head is None:\n",
    "            self.head = new_node\n",
    "        else:\n",
    "            new_node.next = self.head\n",
    "            self.head = new_node\n",
    "        self.num_elements += 1\n",
    "\n",
    "    def pop(self):\n",
    "        if self.is_empty():\n",
    "            return None\n",
    "        temp = self.head.data\n",
    "        self.head = self.head.next\n",
    "        self.num_elements -= 1\n",
    "        return temp\n",
    "\n",
    "    def top(self):\n",
    "        if self.head is None:\n",
    "            return None\n",
    "        return self.head.data\n",
    "\n",
    "    def size(self):\n",
    "        return self.num_elements\n",
    "\n",
    "    def is_empty(self):\n",
    "        return self.num_elements == 0\n"
   ]
  },
  {
   "cell_type": "code",
   "execution_count": 40,
   "metadata": {
    "graffitiCellId": "id_tgdzgoq"
   },
   "outputs": [
    {
     "name": "stdout",
     "output_type": "stream",
     "text": [
      "\tchar 3\n",
      "\tchar 1\n",
      "\tchar +\n",
      "+\n",
      "sec 1\n",
      "fir 3\n",
      "4\n",
      "out 4\n",
      "\tchar 4\n",
      "\tchar *\n",
      "*\n",
      "sec 4\n",
      "fir 4\n",
      "16\n",
      "out 16\n",
      "16\n",
      "Pass\n"
     ]
    }
   ],
   "source": [
    "def evaluate_post_fix(input_list):\n",
    "    \"\"\"\n",
    "    Evaluate the postfix expression to find the answer\n",
    "\n",
    "    Args:\n",
    "       input_list(list): List containing the postfix expression\n",
    "    Returns:\n",
    "       int: Postfix expression solution\n",
    "    \"\"\"\n",
    "    stack = Stack()\n",
    "    \n",
    "    ops = {\"+\": (lambda a, b: a + b),\n",
    "           \"-\": (lambda a, b: a - b),\n",
    "           \"*\": (lambda a, b: a * b),\n",
    "           \"/\": (lambda a, b: int(a / b))\n",
    "          }\n",
    "    # TODO: Iterate over elements \n",
    "    for char in input_list:\n",
    "        print('\\tchar', char)\n",
    "    # TODO: Use stacks to control the element positions\n",
    "        if char in ops:\n",
    "            print(char)\n",
    "            second = int(stack.pop())\n",
    "            print('sec', second)\n",
    "            first = int(stack.pop())\n",
    "            print('fir', first)\n",
    "            output = ops[char](first, second)\n",
    "            print(ops[char](first, second))\n",
    "            print('out', output)\n",
    "            stack.push(output)\n",
    "        else:\n",
    "            stack.push(char)\n",
    "    return stack.pop()\n",
    "test_case_1 = [[\"3\", \"1\", \"+\", \"4\", \"*\"], 16]\n",
    "\n",
    "test_function(test_case_1)"
   ]
  },
  {
   "cell_type": "code",
   "execution_count": 41,
   "metadata": {
    "graffitiCellId": "id_056ej4t"
   },
   "outputs": [],
   "source": [
    "   ops = {\"+\": (lambda a, b: a + b),\n",
    "           \"-\": (lambda a, b: a - b),\n",
    "           \"*\": (lambda a, b: a * b),\n",
    "           \"/\": (lambda a, b: int(a / b))\n",
    "          }"
   ]
  },
  {
   "cell_type": "code",
   "execution_count": 42,
   "metadata": {
    "graffitiCellId": "id_0dsei0i"
   },
   "outputs": [
    {
     "data": {
      "text/plain": [
       "4"
      ]
     },
     "execution_count": 42,
     "metadata": {},
     "output_type": "execute_result"
    }
   ],
   "source": [
    "ops['+'](1,3)"
   ]
  },
  {
   "cell_type": "code",
   "execution_count": 43,
   "metadata": {
    "graffitiCellId": "id_jtoxj0x"
   },
   "outputs": [],
   "source": [
    "def test_function(test_case):\n",
    "    output = evaluate_post_fix(test_case[0])\n",
    "    print(output)\n",
    "    if output == test_case[1]:\n",
    "        print(\"Pass\")\n",
    "    else:\n",
    "        print(\"Fail\")\n"
   ]
  },
  {
   "cell_type": "code",
   "execution_count": 44,
   "metadata": {
    "graffitiCellId": "id_9sqctfc"
   },
   "outputs": [
    {
     "name": "stdout",
     "output_type": "stream",
     "text": [
      "\tchar 3\n",
      "\tchar 1\n",
      "\tchar +\n",
      "+\n",
      "sec 1\n",
      "fir 3\n",
      "4\n",
      "out 4\n",
      "\tchar 4\n",
      "\tchar *\n",
      "*\n",
      "sec 4\n",
      "fir 4\n",
      "16\n",
      "out 16\n",
      "16\n",
      "Pass\n"
     ]
    }
   ],
   "source": [
    "test_case_1 = [[\"3\", \"1\", \"+\", \"4\", \"*\"], 16]\n",
    "\n",
    "test_function(test_case_1)"
   ]
  },
  {
   "cell_type": "code",
   "execution_count": 45,
   "metadata": {
    "graffitiCellId": "id_pkgww70"
   },
   "outputs": [
    {
     "data": {
      "text/plain": [
       "6"
      ]
     },
     "execution_count": 45,
     "metadata": {},
     "output_type": "execute_result"
    }
   ],
   "source": [
    "int(13/5)+4"
   ]
  },
  {
   "cell_type": "code",
   "execution_count": 46,
   "metadata": {
    "graffitiCellId": "id_19vblle"
   },
   "outputs": [
    {
     "name": "stdout",
     "output_type": "stream",
     "text": [
      "\tchar 4\n",
      "\tchar 13\n",
      "\tchar 5\n",
      "\tchar /\n",
      "/\n",
      "sec 5\n",
      "fir 13\n",
      "2\n",
      "out 2\n",
      "\tchar +\n",
      "+\n",
      "sec 2\n",
      "fir 4\n",
      "6\n",
      "out 6\n",
      "6\n",
      "Pass\n"
     ]
    }
   ],
   "source": [
    "test_case_2 = [[\"4\", \"13\", \"5\", \"/\", \"+\"], 6]\n",
    "test_function(test_case_2)"
   ]
  },
  {
   "cell_type": "code",
   "execution_count": 47,
   "metadata": {
    "graffitiCellId": "id_q5atimj"
   },
   "outputs": [
    {
     "name": "stdout",
     "output_type": "stream",
     "text": [
      "\tchar 10\n",
      "\tchar 6\n",
      "\tchar 9\n",
      "\tchar 3\n",
      "\tchar +\n",
      "+\n",
      "sec 3\n",
      "fir 9\n",
      "12\n",
      "out 12\n",
      "\tchar -11\n",
      "\tchar *\n",
      "*\n",
      "sec -11\n",
      "fir 12\n",
      "-132\n",
      "out -132\n",
      "\tchar /\n",
      "/\n",
      "sec -132\n",
      "fir 6\n",
      "0\n",
      "out 0\n",
      "\tchar *\n",
      "*\n",
      "sec 0\n",
      "fir 10\n",
      "0\n",
      "out 0\n",
      "\tchar 17\n",
      "\tchar +\n",
      "+\n",
      "sec 17\n",
      "fir 0\n",
      "17\n",
      "out 17\n",
      "\tchar 5\n",
      "\tchar +\n",
      "+\n",
      "sec 5\n",
      "fir 17\n",
      "22\n",
      "out 22\n",
      "22\n",
      "Pass\n"
     ]
    }
   ],
   "source": [
    "test_case_3 = [[\"10\", \"6\", \"9\", \"3\", \"+\", \"-11\", \"*\", \"/\", \"*\", \"17\", \"+\", \"5\", \"+\"], 22]\n",
    "test_function(test_case_3)"
   ]
  },
  {
   "cell_type": "markdown",
   "metadata": {
    "graffitiCellId": "id_wble8ty"
   },
   "source": [
    "<span class=\"graffiti-highlight graffiti-id_wble8ty-id_56fruru\"><i></i><button>Show Solution</button></span>"
   ]
  },
  {
   "cell_type": "code",
   "execution_count": null,
   "metadata": {
    "graffitiCellId": "id_agm12m6"
   },
   "outputs": [],
   "source": [
    "-121"
   ]
  }
 ],
 "metadata": {
  "graffiti": {
   "firstAuthorId": "10694620118",
   "id": "id_mokjq6m",
   "language": "EN"
  },
  "kernelspec": {
   "display_name": "Python 3",
   "language": "python",
   "name": "python3"
  },
  "language_info": {
   "codemirror_mode": {
    "name": "ipython",
    "version": 3
   },
   "file_extension": ".py",
   "mimetype": "text/x-python",
   "name": "python",
   "nbconvert_exporter": "python",
   "pygments_lexer": "ipython3",
   "version": "3.6.3"
  }
 },
 "nbformat": 4,
 "nbformat_minor": 2
}
