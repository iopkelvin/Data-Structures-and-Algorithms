{
 "cells": [
  {
   "cell_type": "markdown",
   "metadata": {},
   "source": [
    "## Flattening a nested linked list\n",
    "\n",
    "Suppose you have a linked list where the value of each node is a sorted linked list (i.e., it is a _nested_ list). Your task is to _flatten_ this nested list—that is, to combine all nested lists into a single (sorted) linked list.\n",
    "\n",
    "First, we'll need some code for generating nodes and a linked list:"
   ]
  },
  {
   "cell_type": "code",
   "execution_count": 1,
   "metadata": {},
   "outputs": [
    {
     "name": "stdout",
     "output_type": "stream",
     "text": [
      "Detecting Loops.ipynb\n",
      "Even-After-Odd-Nodes.ipynb\n",
      "Even-After-Odd-Nodes_solution.py\n",
      "Flattening a nested linked list.ipynb\n",
      "Implementing and traversing a linked list.ipynb\n",
      "Linked List Practice.ipynb\n",
      "Linked Lists Basics.ipynb\n",
      "Reverse a Linked List.ipynb\n",
      "Skip-i-delete-j.ipynb\n",
      "Skip-i-delete-j_solution.py\n",
      "Sorted Linked List Exercise.ipynb\n",
      "Swap-Nodes.ipynb\n",
      "Swap-Nodes_solution.py\n",
      "assets/\n",
      "assets/linked_list_head_none.png\n",
      "assets/doubly_linked_list.png\n",
      "assets/singly_linked_list.png\n",
      "assets/circular_linked_list.png\n",
      "assets/two_runners_circular.png\n",
      "assets/linked_list_two_nodes.png\n",
      "jupytergraffiti\n",
      "jupytergraffiti_data/\n",
      "jupytergraffiti_data/notebooks/\n",
      "jupytergraffiti_data/notebooks/id_8zd3m5b/\n",
      "jupytergraffiti_data/notebooks/id_8zd3m5b/authors/\n",
      "jupytergraffiti_data/notebooks/id_8zd3m5b/authors/dev/\n",
      "jupytergraffiti_data/notebooks/id_8zd3m5b/authors/dev/manifest.json\n",
      "jupytergraffiti_data/notebooks/id_r353lsv/\n",
      "jupytergraffiti_data/notebooks/id_r353lsv/authors/\n",
      "jupytergraffiti_data/notebooks/id_r353lsv/authors/10694620118/\n",
      "jupytergraffiti_data/notebooks/id_r353lsv/authors/10694620118/manifest.json\n",
      "jupytergraffiti_data/notebooks/id_2oggofo/\n",
      "jupytergraffiti_data/notebooks/id_2oggofo/authors/\n",
      "jupytergraffiti_data/notebooks/id_2oggofo/authors/dev/\n",
      "jupytergraffiti_data/notebooks/id_2oggofo/authors/dev/manifest.json\n",
      "jupytergraffiti_data/notebooks/id_onfkwff/\n",
      "jupytergraffiti_data/notebooks/id_onfkwff/authors/\n",
      "jupytergraffiti_data/notebooks/id_onfkwff/authors/10835321903/\n",
      "jupytergraffiti_data/notebooks/id_onfkwff/authors/10835321903/cells/\n",
      "jupytergraffiti_data/notebooks/id_onfkwff/authors/10835321903/cells/id_fgyadie/\n",
      "jupytergraffiti_data/notebooks/id_onfkwff/authors/10835321903/cells/id_fgyadie/graffitis/\n",
      "jupytergraffiti_data/notebooks/id_onfkwff/authors/10835321903/cells/id_fgyadie/graffitis/id_g9gdx9q/\n",
      "jupytergraffiti_data/notebooks/id_onfkwff/authors/10835321903/cells/id_fgyadie/graffitis/id_g9gdx9q/takes/\n",
      "jupytergraffiti_data/notebooks/id_onfkwff/authors/10835321903/cells/id_fgyadie/graffitis/id_g9gdx9q/takes/id_l4myuzw/\n",
      "jupytergraffiti_data/notebooks/id_onfkwff/authors/10835321903/cells/id_fgyadie/graffitis/id_g9gdx9q/takes/id_l4myuzw/audio.txt\n",
      "jupytergraffiti_data/notebooks/id_onfkwff/authors/10835321903/cells/id_fgyadie/graffitis/id_g9gdx9q/takes/id_l4myuzw/history.txt\n",
      "jupytergraffiti_data/notebooks/id_onfkwff/authors/10835321903/cells/id_fgyadie/graffitis/id_g9gdx9q/takes/id_58jnptq/\n",
      "jupytergraffiti_data/notebooks/id_onfkwff/authors/10835321903/cells/id_fgyadie/graffitis/id_g9gdx9q/takes/id_58jnptq/audio.txt\n",
      "jupytergraffiti_data/notebooks/id_onfkwff/authors/10835321903/cells/id_fgyadie/graffitis/id_g9gdx9q/takes/id_58jnptq/history.txt\n",
      "jupytergraffiti_data/notebooks/id_onfkwff/authors/10835321903/cells/id_fx1ii1b/\n",
      "jupytergraffiti_data/notebooks/id_onfkwff/authors/10835321903/cells/id_fx1ii1b/graffitis/\n",
      "jupytergraffiti_data/notebooks/id_onfkwff/authors/10835321903/cells/id_fx1ii1b/graffitis/id_p4ecakd/\n",
      "jupytergraffiti_data/notebooks/id_onfkwff/authors/10835321903/cells/id_fx1ii1b/graffitis/id_p4ecakd/takes/\n",
      "jupytergraffiti_data/notebooks/id_onfkwff/authors/10835321903/cells/id_fx1ii1b/graffitis/id_p4ecakd/takes/id_susr4y5/\n",
      "jupytergraffiti_data/notebooks/id_onfkwff/authors/10835321903/cells/id_fx1ii1b/graffitis/id_p4ecakd/takes/id_susr4y5/audio.txt\n",
      "jupytergraffiti_data/notebooks/id_onfkwff/authors/10835321903/cells/id_fx1ii1b/graffitis/id_p4ecakd/takes/id_susr4y5/history.txt\n",
      "jupytergraffiti_data/notebooks/id_onfkwff/authors/10835321903/cells/id_fx1ii1b/graffitis/id_p4ecakd/takes/id_6awj3bd/\n",
      "jupytergraffiti_data/notebooks/id_onfkwff/authors/10835321903/cells/id_fx1ii1b/graffitis/id_p4ecakd/takes/id_6awj3bd/audio.txt\n",
      "jupytergraffiti_data/notebooks/id_onfkwff/authors/10835321903/cells/id_fx1ii1b/graffitis/id_p4ecakd/takes/id_6awj3bd/history.txt\n",
      "jupytergraffiti_data/notebooks/id_onfkwff/authors/10835321903/cells/id_fx1ii1b/graffitis/id_p4ecakd/takes/id_lyg8cfw/\n",
      "jupytergraffiti_data/notebooks/id_onfkwff/authors/10835321903/cells/id_fx1ii1b/graffitis/id_p4ecakd/takes/id_lyg8cfw/audio.txt\n",
      "jupytergraffiti_data/notebooks/id_onfkwff/authors/10835321903/cells/id_fx1ii1b/graffitis/id_p4ecakd/takes/id_lyg8cfw/history.txt\n",
      "jupytergraffiti_data/notebooks/id_onfkwff/authors/10835321903/cells/id_fx1ii1b/graffitis/id_p4ecakd/takes/id_gj313qw/\n",
      "jupytergraffiti_data/notebooks/id_onfkwff/authors/10835321903/cells/id_fx1ii1b/graffitis/id_p4ecakd/takes/id_gj313qw/audio.txt\n",
      "jupytergraffiti_data/notebooks/id_onfkwff/authors/10835321903/cells/id_fx1ii1b/graffitis/id_p4ecakd/takes/id_gj313qw/history.txt\n",
      "jupytergraffiti_data/notebooks/id_onfkwff/authors/10835321903/cells/id_fx1ii1b/graffitis/id_p4ecakd/takes/id_60bz81c/\n",
      "jupytergraffiti_data/notebooks/id_onfkwff/authors/10835321903/cells/id_fx1ii1b/graffitis/id_p4ecakd/takes/id_60bz81c/audio.txt\n",
      "jupytergraffiti_data/notebooks/id_onfkwff/authors/10835321903/cells/id_fx1ii1b/graffitis/id_p4ecakd/takes/id_60bz81c/history.txt\n",
      "jupytergraffiti_data/notebooks/id_onfkwff/authors/10835321903/cells/id_ef8aj0i/\n",
      "jupytergraffiti_data/notebooks/id_onfkwff/authors/10835321903/cells/id_ef8aj0i/graffitis/\n",
      "jupytergraffiti_data/notebooks/id_onfkwff/authors/10835321903/cells/id_ef8aj0i/graffitis/id_uy9snfg/\n",
      "jupytergraffiti_data/notebooks/id_onfkwff/authors/10835321903/cells/id_ef8aj0i/graffitis/id_uy9snfg/takes/\n",
      "jupytergraffiti_data/notebooks/id_onfkwff/authors/10835321903/cells/id_ef8aj0i/graffitis/id_uy9snfg/takes/id_lfns3jm/\n",
      "jupytergraffiti_data/notebooks/id_onfkwff/authors/10835321903/cells/id_ef8aj0i/graffitis/id_uy9snfg/takes/id_lfns3jm/audio.txt\n",
      "jupytergraffiti_data/notebooks/id_onfkwff/authors/10835321903/cells/id_ef8aj0i/graffitis/id_uy9snfg/takes/id_lfns3jm/history.txt\n",
      "jupytergraffiti_data/notebooks/id_onfkwff/authors/10835321903/cells/id_rytkj5r/\n",
      "jupytergraffiti_data/notebooks/id_onfkwff/authors/10835321903/cells/id_rytkj5r/graffitis/\n",
      "jupytergraffiti_data/notebooks/id_onfkwff/authors/10835321903/cells/id_rytkj5r/graffitis/id_b4xxfs5/\n",
      "jupytergraffiti_data/notebooks/id_onfkwff/authors/10835321903/cells/id_rytkj5r/graffitis/id_b4xxfs5/takes/\n",
      "jupytergraffiti_data/notebooks/id_onfkwff/authors/10835321903/cells/id_rytkj5r/graffitis/id_b4xxfs5/takes/id_14vpt1p/\n",
      "jupytergraffiti_data/notebooks/id_onfkwff/authors/10835321903/cells/id_rytkj5r/graffitis/id_b4xxfs5/takes/id_14vpt1p/audio.txt\n",
      "jupytergraffiti_data/notebooks/id_onfkwff/authors/10835321903/cells/id_rytkj5r/graffitis/id_b4xxfs5/takes/id_14vpt1p/history.txt\n",
      "jupytergraffiti_data/notebooks/id_onfkwff/authors/10835321903/cells/id_rytkj5r/graffitis/id_b4xxfs5/takes/id_q4b4jr7/\n",
      "jupytergraffiti_data/notebooks/id_onfkwff/authors/10835321903/cells/id_rytkj5r/graffitis/id_b4xxfs5/takes/id_q4b4jr7/audio.txt\n",
      "jupytergraffiti_data/notebooks/id_onfkwff/authors/10835321903/cells/id_rytkj5r/graffitis/id_b4xxfs5/takes/id_q4b4jr7/history.txt\n",
      "jupytergraffiti_data/notebooks/id_onfkwff/authors/10835321903/manifest.json\n",
      "jupytergraffiti_data/notebooks/id_ao3gp0i/\n",
      "jupytergraffiti_data/notebooks/id_ao3gp0i/authors/\n",
      "jupytergraffiti_data/notebooks/id_ao3gp0i/authors/10694620118/\n",
      "jupytergraffiti_data/notebooks/id_ao3gp0i/authors/10694620118/manifest.json\n",
      "jupytergraffiti_data/notebooks/id_dvlxolz/\n",
      "jupytergraffiti_data/notebooks/id_dvlxolz/authors/\n",
      "jupytergraffiti_data/notebooks/id_dvlxolz/authors/10694620118/\n",
      "jupytergraffiti_data/notebooks/id_dvlxolz/authors/10694620118/manifest.json\n",
      "jupytergraffiti_data/notebooks/id_9v48ov8/\n",
      "jupytergraffiti_data/notebooks/id_9v48ov8/authors/\n",
      "jupytergraffiti_data/notebooks/id_9v48ov8/authors/10694620118/\n",
      "jupytergraffiti_data/notebooks/id_9v48ov8/authors/10694620118/manifest.json\n",
      "jupytergraffiti_data/notebooks/id_cuns29g/\n",
      "jupytergraffiti_data/notebooks/id_cuns29g/authors/\n",
      "jupytergraffiti_data/notebooks/id_cuns29g/authors/dev/\n",
      "jupytergraffiti_data/notebooks/id_cuns29g/authors/dev/manifest.json\n",
      "jupytergraffiti_data/notebooks/id_lav5dxq/\n",
      "jupytergraffiti_data/notebooks/id_lav5dxq/authors/\n",
      "jupytergraffiti_data/notebooks/id_lav5dxq/authors/10694620118/\n",
      "jupytergraffiti_data/notebooks/id_lav5dxq/authors/10694620118/manifest.json\n",
      "linked_lists_intro_solution_01.py\n",
      "linked_lists_intro_solution_02.py\n",
      "linked_lists_intro_solution_03.py\n",
      "linked_lists_intro_solution_04.py\n",
      "linked_lists_intro_solution_05.py\n",
      "ll_basic_1.py\n",
      "ll_basic_2.py\n",
      "ll_loop_detection.py\n",
      "ll_practice.py\n",
      "ll_reverse.py\n",
      "ll_sorted_1.py\n",
      "ll_sorted_2.py\n"
     ]
    }
   ],
   "source": [
    "!tar cvfz allfiles.tar.gz *"
   ]
  },
  {
   "cell_type": "code",
   "execution_count": 64,
   "metadata": {},
   "outputs": [],
   "source": [
    "# Use this class as the nodes in your linked list\n",
    "class Node:\n",
    "    def __init__(self, value):\n",
    "        self.value = value\n",
    "        self.next = None\n",
    "    \n",
    "    def __repr__(self):\n",
    "        return str(self.value)\n",
    "    \n",
    "class LinkedList:\n",
    "    def __init__(self, head):\n",
    "        self.head = head\n",
    "        \n",
    "    def append(self, value):\n",
    "        if self.head is None:\n",
    "            self.head = Node(value)\n",
    "            return\n",
    "        node = self.head\n",
    "        while node.next is not None:\n",
    "            node = node.next\n",
    "        node.next = Node(value)"
   ]
  },
  {
   "cell_type": "markdown",
   "metadata": {},
   "source": [
    "Now, in the cell below, see if you can solve the problem by implementing the `flatten` method.\n",
    "\n",
    ">Hint: If you first create a `merge` method that merges two linked lists into a sorted linked list, then there is an elegant recursive solution."
   ]
  },
  {
   "cell_type": "code",
   "execution_count": 100,
   "metadata": {},
   "outputs": [],
   "source": [
    "def merge(list1, list2):\n",
    "    # TODO: Implement this function so that it merges the two linked lists in a single, sorted linked list.\n",
    "    merged = LinkedList(None)\n",
    "    if list1 is None:\n",
    "        return list2\n",
    "    if list2 is None:\n",
    "        return list1\n",
    "    list1_top = list1.head\n",
    "    list2_top = list2.head\n",
    "    while list1_top is not None or list2_top is not None:\n",
    "        if list1_top is None:\n",
    "            merged.append(list2_top)\n",
    "            list2_top = list2_top.next\n",
    "        elif list2_top is None:\n",
    "            merged.append(list1_top)\n",
    "            list1_top = list1_top.next\n",
    "        elif list1_top.value <= list2_top.value:\n",
    "            merged.append(list1_top)\n",
    "            list1_top = list1_top.next\n",
    "        else:\n",
    "            merged.append(list2_top)\n",
    "            list2_top = list2_top.next\n",
    "    return merged\n",
    "\n",
    "        \n",
    "class NestedLinkedList(LinkedList):\n",
    "    def flatten(self):\n",
    "        # TODO: Implement this method to flatten the linked list in ascending sorted order.\n",
    "        return self._flatten(self.head)\n",
    "\n",
    "    def _flatten(self, node):\n",
    "        if node.next is None:\n",
    "            return merge(node.value, None)\n",
    "        return merge(node.value, self._flatten(node.next))        \n",
    "        "
   ]
  },
  {
   "cell_type": "markdown",
   "metadata": {},
   "source": [
    "Here's some code that will generate a nested linked list that we can use to test the solution:"
   ]
  },
  {
   "cell_type": "code",
   "execution_count": 108,
   "metadata": {},
   "outputs": [],
   "source": [
    "linked_list = LinkedList(Node(1))\n",
    "linked_list.append(3)\n",
    "linked_list.append(5)\n",
    "\n",
    "second_linked_list = LinkedList(Node(2))\n",
    "second_linked_list.append(4)\n",
    "\n",
    "\n",
    "nested_linked_list = NestedLinkedList(Node(linked_list))\n",
    "nested_linked_list.append(second_linked_list)\n",
    "flattened = nested_linked_list.flatten()"
   ]
  },
  {
   "cell_type": "markdown",
   "metadata": {},
   "source": [
    "### Structure\n",
    "`nested_linked_list` should now have 2 nodes.  The head node is a linked list containing `1, 3, 5`.  The second node is a linked list containing `2, 4`.\n",
    "\n",
    "Calling `flatten` should return a linked list containing `1, 2, 3, 4, 5`."
   ]
  },
  {
   "cell_type": "code",
   "execution_count": 111,
   "metadata": {
    "scrolled": true
   },
   "outputs": [
    {
     "ename": "AssertionError",
     "evalue": "",
     "output_type": "error",
     "traceback": [
      "\u001b[0;31m---------------------------------------------------------------------------\u001b[0m",
      "\u001b[0;31mAssertionError\u001b[0m                            Traceback (most recent call last)",
      "\u001b[0;32m<ipython-input-111-321f9e4e9ab6>\u001b[0m in \u001b[0;36m<module>\u001b[0;34m()\u001b[0m\n\u001b[1;32m      1\u001b[0m \u001b[0msolution\u001b[0m \u001b[0;34m=\u001b[0m \u001b[0mnested_linked_list\u001b[0m\u001b[0;34m.\u001b[0m\u001b[0mflatten\u001b[0m\u001b[0;34m(\u001b[0m\u001b[0;34m)\u001b[0m\u001b[0;34m\u001b[0m\u001b[0m\n\u001b[0;32m----> 2\u001b[0;31m \u001b[0;32massert\u001b[0m \u001b[0msolution\u001b[0m \u001b[0;34m==\u001b[0m \u001b[0;34m[\u001b[0m\u001b[0;36m1\u001b[0m\u001b[0;34m,\u001b[0m\u001b[0;36m2\u001b[0m\u001b[0;34m,\u001b[0m\u001b[0;36m3\u001b[0m\u001b[0;34m,\u001b[0m\u001b[0;36m4\u001b[0m\u001b[0;34m,\u001b[0m\u001b[0;36m5\u001b[0m\u001b[0;34m]\u001b[0m\u001b[0;34m\u001b[0m\u001b[0m\n\u001b[0m",
      "\u001b[0;31mAssertionError\u001b[0m: "
     ]
    }
   ],
   "source": [
    "solution = nested_linked_list.flatten()\n",
    "assert solution == [1,2,3,4,5]"
   ]
  },
  {
   "cell_type": "code",
   "execution_count": 106,
   "metadata": {},
   "outputs": [
    {
     "name": "stdout",
     "output_type": "stream",
     "text": [
      "1\n",
      "2\n",
      "3\n",
      "4\n",
      "5\n"
     ]
    }
   ],
   "source": [
    "node = solution.head\n",
    "while node is not None:\n",
    "    #This will print 1 2 3 4 5\n",
    "    print(node.value)\n",
    "    node = node.next"
   ]
  },
  {
   "cell_type": "markdown",
   "metadata": {},
   "source": [
    "### Solution"
   ]
  },
  {
   "cell_type": "markdown",
   "metadata": {},
   "source": [
    "First, let's implement a `merge` function that takes in two linked lists and returns one sorted linked list.  Note, this implementation expects both linked lists to be sorted."
   ]
  },
  {
   "cell_type": "code",
   "execution_count": 112,
   "metadata": {},
   "outputs": [],
   "source": [
    "def merge(list1, list2):\n",
    "    merged = LinkedList(None)\n",
    "    if list1 is None:\n",
    "        return list2\n",
    "    if list2 is None:\n",
    "        return list1\n",
    "    list1_elt = list1.head\n",
    "    list2_elt = list2.head\n",
    "    while list1_elt is not None or list2_elt is not None:\n",
    "        if list1_elt is None:\n",
    "            merged.append(list2_elt)\n",
    "            list2_elt = list2_elt.next\n",
    "        elif list2_elt is None:\n",
    "            merged.append(list1_elt)\n",
    "            list1_elt = list1_elt.next\n",
    "        elif list1_elt.value <= list2_elt.value:\n",
    "            merged.append(list1_elt)\n",
    "            list1_elt = list1_elt.next\n",
    "        else:\n",
    "            merged.append(list2_elt)\n",
    "            list2_elt = list2_elt.next\n",
    "    return merged"
   ]
  },
  {
   "cell_type": "markdown",
   "metadata": {},
   "source": [
    "Let's make sure merge works how we expect:"
   ]
  },
  {
   "cell_type": "code",
   "execution_count": 113,
   "metadata": {},
   "outputs": [
    {
     "name": "stdout",
     "output_type": "stream",
     "text": [
      "1\n",
      "2\n",
      "3\n",
      "4\n",
      "5\n",
      "1\n",
      "3\n",
      "5\n"
     ]
    }
   ],
   "source": [
    "linked_list = LinkedList(Node(1))\n",
    "linked_list.append(3)\n",
    "linked_list.append(5)\n",
    "\n",
    "second_linked_list = LinkedList(Node(2))\n",
    "second_linked_list.append(4)\n",
    "\n",
    "merged = merge(linked_list, second_linked_list)\n",
    "node = merged.head\n",
    "while node is not None:\n",
    "    #This will print 1 2 3 4 5\n",
    "    print(node.value)\n",
    "    node = node.next\n",
    "    \n",
    "# Lets make sure it works with a None list\n",
    "merged = merge(None, linked_list)\n",
    "node = merged.head\n",
    "while node is not None:\n",
    "    #This will print 1 2 3 4 5\n",
    "    print(node.value)\n",
    "    node = node.next"
   ]
  },
  {
   "cell_type": "markdown",
   "metadata": {},
   "source": [
    "Now let's implement `flatten` recursively using merge."
   ]
  },
  {
   "cell_type": "code",
   "execution_count": 114,
   "metadata": {},
   "outputs": [],
   "source": [
    "class NestedLinkedList(LinkedList):\n",
    "    def flatten(self):\n",
    "        return self._flatten(self.head)\n",
    "\n",
    "    def _flatten(self, node):\n",
    "        if node.next is None:\n",
    "            return merge(node.value, None)\n",
    "        return merge(node.value, self._flatten(node.next))"
   ]
  },
  {
   "cell_type": "code",
   "execution_count": 115,
   "metadata": {},
   "outputs": [
    {
     "name": "stdout",
     "output_type": "stream",
     "text": [
      "1\n",
      "2\n",
      "3\n",
      "4\n",
      "5\n"
     ]
    }
   ],
   "source": [
    "\n",
    "nested_linked_list = NestedLinkedList(Node(linked_list))\n",
    "nested_linked_list.append(second_linked_list)\n",
    "flattened = nested_linked_list.flatten()\n",
    "\n",
    "node = flattened.head\n",
    "while node is not None:\n",
    "    #This will print 1 2 3 4 5\n",
    "    print(node.value)\n",
    "    node = node.next"
   ]
  },
  {
   "cell_type": "markdown",
   "metadata": {},
   "source": [
    "### Computational Complexity\n",
    "Lets start with the computational complexity of `merge`.  Merge takes in two lists.  Let's say the lengths of the lists are $N_{1}$ and $N_{2}$. Because we assume the inputs are sorted, `merge` is very efficient. It looks at the first element of each list and adds the smaller one to the returned list.  Every time through the loop we are appending one element to the list, so it will take $N_{1} + N_{2}$ iterations until we have the whole list.\n",
    "\n",
    "The complexity of `flatten` is a little more complicated to calculate.  Suppose our `NestedLinkedList` has $N$ linked lists and each list's length is represented by $M_{1}, M_{2}, ..., M_{N}$.\n",
    "\n",
    "We can represent this recursion as:\n",
    "\n",
    "$merge(M_{1}, merge(M_{2}, merge(..., merge(M_{N-1}, merge(M_{N}, None)))))$\n",
    "\n",
    "Let's start from the inside.  The inner most merge returns the $nth$ linked list.  The next merge does $M_{N-1} + M_{N}$ comparisons.  The next merge does $M_{N-2} + M_{N-1} + M_{N}$ comparisons.\n",
    "\n",
    "Eventually we will do $N$ comparisons on all of the $M_{N}$ elements. We will do $N-1$ comparisons on $M_{N-1}$ elements.\n",
    "\n",
    "This can be generalized as:\n",
    "\n",
    "$$\n",
    "\\sum_n^N n*M_{n}\n",
    "$$"
   ]
  }
 ],
 "metadata": {
  "kernelspec": {
   "display_name": "Python 3",
   "language": "python",
   "name": "python3"
  },
  "language_info": {
   "codemirror_mode": {
    "name": "ipython",
    "version": 3
   },
   "file_extension": ".py",
   "mimetype": "text/x-python",
   "name": "python",
   "nbconvert_exporter": "python",
   "pygments_lexer": "ipython3",
   "version": "3.6.3"
  }
 },
 "nbformat": 4,
 "nbformat_minor": 2
}
