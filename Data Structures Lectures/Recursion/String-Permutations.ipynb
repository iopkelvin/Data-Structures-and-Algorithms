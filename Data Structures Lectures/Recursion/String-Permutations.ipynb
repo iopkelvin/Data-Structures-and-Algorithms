{
 "cells": [
  {
   "cell_type": "markdown",
   "metadata": {
    "graffitiCellId": "id_3ajxm94"
   },
   "source": [
    "### Problem Statement\n",
    "\n",
    "Given an input string, return all permutations of the string in an array.\n",
    "\n",
    "**Example 1:**\n",
    "* `string = 'ab'`\n",
    "* `output = ['ab', 'ba']`\n",
    "\n",
    "**Example 2:**\n",
    "* `string = 'abc'`\n",
    "* `output = ['abc', 'bac', 'bca', 'acb', 'cab', 'cba']`\n"
   ]
  },
  {
   "cell_type": "code",
   "execution_count": 4,
   "metadata": {
    "graffitiCellId": "id_nv5urta"
   },
   "outputs": [],
   "source": [
    "def permutations(string):\n",
    "    \"\"\"\n",
    "    :param: input string\n",
    "    Return - list of all permutations of the input string\n",
    "    TODO: complete this function to return a list of all permutations of the string\n",
    "    \"\"\"\n",
    "    pass"
   ]
  },
  {
   "cell_type": "markdown",
   "metadata": {
    "graffitiCellId": "id_2d0q2u5"
   },
   "source": [
    "<span class=\"graffiti-highlight graffiti-id_2d0q2u5-id_vkbq25t\"><i></i><button>Hide Solution</button></span>"
   ]
  },
  {
   "cell_type": "code",
   "execution_count": 31,
   "metadata": {
    "graffitiCellId": "id_vkbq25t"
   },
   "outputs": [],
   "source": [
    "# Solution\n",
    "def permutations(string):\n",
    "    return return_permutations(string, 0)\n",
    "    \n",
    "def return_permutations(string, index):\n",
    "    # Base Case\n",
    "    if index >= len(string):\n",
    "        return [\"\"]\n",
    "    \n",
    "    small_output = return_permutations(string, index + 1)\n",
    "    print('string: {} index+1: {}'.format(len(string), index+1) )\n",
    "    output = list()\n",
    "    current_char = string[index]\n",
    "    print('current_char:', current_char)\n",
    "    \n",
    "    # iterate over each permutation string received thus far\n",
    "    # and place the current character at between different indices of the string\n",
    "    for permutation in small_output:\n",
    "        print('permutation: ', permutation)\n",
    "        for index in range(len(small_output[0]) + 1):\n",
    "            print('\\tindex', index)\n",
    "            new_permutation = permutation[0: index] + current_char + permutation[index:]\n",
    "            print('\\t\\tnew_permutation',new_permutation)\n",
    "            output.append(new_permutation)\n",
    "            print('\\t\\toutput', output)\n",
    "    return output\n"
   ]
  },
  {
   "cell_type": "code",
   "execution_count": null,
   "metadata": {
    "graffitiCellId": "id_wq09906"
   },
   "outputs": [],
   "source": [
    "'c'[0:1]+"
   ]
  },
  {
   "cell_type": "code",
   "execution_count": 36,
   "metadata": {
    "graffitiCellId": "id_f61aonu"
   },
   "outputs": [
    {
     "name": "stdout",
     "output_type": "stream",
     "text": [
      "string: 3 index+1: 3\n",
      "current_char: c\n",
      "permutation:  \n",
      "\tindex 0\n",
      "\t\tnew_permutation c\n",
      "\t\toutput ['c']\n",
      "string: 3 index+1: 2\n",
      "current_char: b\n",
      "permutation:  c\n",
      "\tindex 0\n",
      "\t\tnew_permutation bc\n",
      "\t\toutput ['bc']\n",
      "\tindex 1\n",
      "\t\tnew_permutation cb\n",
      "\t\toutput ['bc', 'cb']\n",
      "string: 3 index+1: 1\n",
      "current_char: a\n",
      "permutation:  bc\n",
      "\tindex 0\n",
      "\t\tnew_permutation abc\n",
      "\t\toutput ['abc']\n",
      "\tindex 1\n",
      "\t\tnew_permutation bac\n",
      "\t\toutput ['abc', 'bac']\n",
      "\tindex 2\n",
      "\t\tnew_permutation bca\n",
      "\t\toutput ['abc', 'bac', 'bca']\n",
      "permutation:  cb\n",
      "\tindex 0\n",
      "\t\tnew_permutation acb\n",
      "\t\toutput ['abc', 'bac', 'bca', 'acb']\n",
      "\tindex 1\n",
      "\t\tnew_permutation cab\n",
      "\t\toutput ['abc', 'bac', 'bca', 'acb', 'cab']\n",
      "\tindex 2\n",
      "\t\tnew_permutation cba\n",
      "\t\toutput ['abc', 'bac', 'bca', 'acb', 'cab', 'cba']\n"
     ]
    },
    {
     "data": {
      "text/plain": [
       "['abc', 'bac', 'bca', 'acb', 'cab', 'cba']"
      ]
     },
     "execution_count": 36,
     "metadata": {},
     "output_type": "execute_result"
    }
   ],
   "source": [
    "permutations('abc')"
   ]
  },
  {
   "cell_type": "code",
   "execution_count": 15,
   "metadata": {
    "graffitiCellId": "id_mhqifv4"
   },
   "outputs": [],
   "source": [
    "def test_function(test_case):\n",
    "    string = test_case[0]\n",
    "    solution = test_case[1]\n",
    "    output = permutations(string)\n",
    "    \n",
    "    output.sort()\n",
    "    solution.sort()\n",
    "    \n",
    "    if output == solution:\n",
    "        print(\"Pass\")\n",
    "    else:\n",
    "        print(\"Fail\")"
   ]
  },
  {
   "cell_type": "code",
   "execution_count": 16,
   "metadata": {
    "graffitiCellId": "id_tfd0a1l"
   },
   "outputs": [
    {
     "name": "stdout",
     "output_type": "stream",
     "text": [
      "Pass\n"
     ]
    }
   ],
   "source": [
    "string = 'ab'\n",
    "solution = ['ab', 'ba']\n",
    "test_case = [string, solution]\n",
    "test_function(test_case)"
   ]
  },
  {
   "cell_type": "code",
   "execution_count": 12,
   "metadata": {
    "graffitiCellId": "id_j5hyexv"
   },
   "outputs": [
    {
     "name": "stdout",
     "output_type": "stream",
     "text": [
      "Pass\n"
     ]
    }
   ],
   "source": [
    "string = 'abc'\n",
    "output = ['abc', 'bac', 'bca', 'acb', 'cab', 'cba']\n",
    "test_case = [string, output]\n",
    "test_function(test_case)"
   ]
  },
  {
   "cell_type": "code",
   "execution_count": 17,
   "metadata": {
    "graffitiCellId": "id_5e53dq2"
   },
   "outputs": [
    {
     "name": "stdout",
     "output_type": "stream",
     "text": [
      "Pass\n"
     ]
    }
   ],
   "source": [
    "string = 'abcd'\n",
    "output = ['abcd', 'bacd', 'bcad', 'bcda', 'acbd', 'cabd', 'cbad', 'cbda', 'acdb', 'cadb', 'cdab', 'cdba', 'abdc', 'badc', 'bdac', 'bdca', 'adbc', 'dabc', 'dbac', 'dbca', 'adcb', 'dacb', 'dcab', 'dcba']\n",
    "test_case = [string, output]\n",
    "test_function(test_case)"
   ]
  }
 ],
 "metadata": {
  "graffiti": {
   "firstAuthorId": "dev",
   "id": "id_lyhj8gh",
   "language": "EN"
  },
  "kernelspec": {
   "display_name": "Python 3",
   "language": "python",
   "name": "python3"
  },
  "language_info": {
   "codemirror_mode": {
    "name": "ipython",
    "version": 3
   },
   "file_extension": ".py",
   "mimetype": "text/x-python",
   "name": "python",
   "nbconvert_exporter": "python",
   "pygments_lexer": "ipython3",
   "version": "3.6.3"
  }
 },
 "nbformat": 4,
 "nbformat_minor": 2
}
